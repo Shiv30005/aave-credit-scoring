{
  "nbformat": 4,
  "nbformat_minor": 0,
  "metadata": {
    "colab": {
      "provenance": []
    },
    "kernelspec": {
      "name": "python3",
      "display_name": "Python 3"
    },
    "language_info": {
      "name": "python"
    }
  },
  "cells": [
    {
      "cell_type": "code",
      "source": [
        "!pip install gdown pandas numpy matplotlib\n",
        "import os\n",
        "import gdown\n",
        "import json\n",
        "import pandas as pd\n",
        "import numpy as np\n",
        "import matplotlib.pyplot as plt\n",
        "\n",
        "\n",
        "base_dir = \"/content/aave-credit-score\"\n",
        "os.makedirs(f\"{base_dir}/data\", exist_ok=True)\n",
        "os.makedirs(f\"{base_dir}/output\", exist_ok=True)\n",
        "\n",
        "\n",
        "drive_link = \"https://drive.google.com/uc?id=1ISFbAXxadMrt7Zl96rmzzZmEKZnyW7FS\"\n",
        "json_path = f\"{base_dir}/data/user-transactions.json\"\n",
        "gdown.download(drive_link, json_path, quiet=False)"
      ],
      "metadata": {
        "colab": {
          "base_uri": "https://localhost:8080/",
          "height": 556
        },
        "id": "hL8QbIwAg4JB",
        "outputId": "ee752256-b015-4f10-94ec-a232a74e5607"
      },
      "execution_count": null,
      "outputs": [
        {
          "output_type": "stream",
          "name": "stdout",
          "text": [
            "Requirement already satisfied: gdown in /usr/local/lib/python3.11/dist-packages (5.2.0)\n",
            "Requirement already satisfied: pandas in /usr/local/lib/python3.11/dist-packages (2.2.2)\n",
            "Requirement already satisfied: numpy in /usr/local/lib/python3.11/dist-packages (2.0.2)\n",
            "Requirement already satisfied: matplotlib in /usr/local/lib/python3.11/dist-packages (3.10.0)\n",
            "Requirement already satisfied: beautifulsoup4 in /usr/local/lib/python3.11/dist-packages (from gdown) (4.13.4)\n",
            "Requirement already satisfied: filelock in /usr/local/lib/python3.11/dist-packages (from gdown) (3.18.0)\n",
            "Requirement already satisfied: requests[socks] in /usr/local/lib/python3.11/dist-packages (from gdown) (2.32.3)\n",
            "Requirement already satisfied: tqdm in /usr/local/lib/python3.11/dist-packages (from gdown) (4.67.1)\n",
            "Requirement already satisfied: python-dateutil>=2.8.2 in /usr/local/lib/python3.11/dist-packages (from pandas) (2.9.0.post0)\n",
            "Requirement already satisfied: pytz>=2020.1 in /usr/local/lib/python3.11/dist-packages (from pandas) (2025.2)\n",
            "Requirement already satisfied: tzdata>=2022.7 in /usr/local/lib/python3.11/dist-packages (from pandas) (2025.2)\n",
            "Requirement already satisfied: contourpy>=1.0.1 in /usr/local/lib/python3.11/dist-packages (from matplotlib) (1.3.2)\n",
            "Requirement already satisfied: cycler>=0.10 in /usr/local/lib/python3.11/dist-packages (from matplotlib) (0.12.1)\n",
            "Requirement already satisfied: fonttools>=4.22.0 in /usr/local/lib/python3.11/dist-packages (from matplotlib) (4.59.0)\n",
            "Requirement already satisfied: kiwisolver>=1.3.1 in /usr/local/lib/python3.11/dist-packages (from matplotlib) (1.4.8)\n",
            "Requirement already satisfied: packaging>=20.0 in /usr/local/lib/python3.11/dist-packages (from matplotlib) (25.0)\n",
            "Requirement already satisfied: pillow>=8 in /usr/local/lib/python3.11/dist-packages (from matplotlib) (11.3.0)\n",
            "Requirement already satisfied: pyparsing>=2.3.1 in /usr/local/lib/python3.11/dist-packages (from matplotlib) (3.2.3)\n",
            "Requirement already satisfied: six>=1.5 in /usr/local/lib/python3.11/dist-packages (from python-dateutil>=2.8.2->pandas) (1.17.0)\n",
            "Requirement already satisfied: soupsieve>1.2 in /usr/local/lib/python3.11/dist-packages (from beautifulsoup4->gdown) (2.7)\n",
            "Requirement already satisfied: typing-extensions>=4.0.0 in /usr/local/lib/python3.11/dist-packages (from beautifulsoup4->gdown) (4.14.1)\n",
            "Requirement already satisfied: charset-normalizer<4,>=2 in /usr/local/lib/python3.11/dist-packages (from requests[socks]->gdown) (3.4.2)\n",
            "Requirement already satisfied: idna<4,>=2.5 in /usr/local/lib/python3.11/dist-packages (from requests[socks]->gdown) (3.10)\n",
            "Requirement already satisfied: urllib3<3,>=1.21.1 in /usr/local/lib/python3.11/dist-packages (from requests[socks]->gdown) (2.5.0)\n",
            "Requirement already satisfied: certifi>=2017.4.17 in /usr/local/lib/python3.11/dist-packages (from requests[socks]->gdown) (2025.7.14)\n",
            "Requirement already satisfied: PySocks!=1.5.7,>=1.5.6 in /usr/local/lib/python3.11/dist-packages (from requests[socks]->gdown) (1.7.1)\n"
          ]
        },
        {
          "output_type": "stream",
          "name": "stderr",
          "text": [
            "Downloading...\n",
            "From: https://drive.google.com/uc?id=1ISFbAXxadMrt7Zl96rmzzZmEKZnyW7FS\n",
            "To: /content/aave-credit-score/data/user-transactions.json\n",
            "100%|██████████| 91.2M/91.2M [00:00<00:00, 201MB/s]\n"
          ]
        },
        {
          "output_type": "execute_result",
          "data": {
            "text/plain": [
              "'/content/aave-credit-score/data/user-transactions.json'"
            ],
            "application/vnd.google.colaboratory.intrinsic+json": {
              "type": "string"
            }
          },
          "metadata": {},
          "execution_count": 14
        }
      ]
    },
    {
      "cell_type": "code",
      "source": [
        "\n",
        "with open(json_path, \"r\") as f:\n",
        "    data = json.load(f)\n",
        "df = pd.DataFrame(data)\n",
        "\n",
        "\n",
        "def extract_amount(x):\n",
        "    try:\n",
        "        return float(x.get('amount', 0)) / 1e18\n",
        "    except:\n",
        "        return 0\n",
        "\n",
        "df['amount'] = df['actionData'].apply(extract_amount)\n",
        "df['timestamp'] = pd.to_datetime(df['timestamp'], unit='s')\n",
        "\n",
        "print(f\"Total transactions: {len(df)}\")\n",
        "print(f\"Unique wallets: {df['userWallet'].nunique()}\")"
      ],
      "metadata": {
        "colab": {
          "base_uri": "https://localhost:8080/"
        },
        "id": "hTQdE6pzg6FC",
        "outputId": "6422cb49-4cc3-4208-ecb5-ba1e0a5b1417"
      },
      "execution_count": null,
      "outputs": [
        {
          "output_type": "stream",
          "name": "stdout",
          "text": [
            "Total transactions: 100000\n",
            "Unique wallets: 3497\n"
          ]
        }
      ]
    },
    {
      "cell_type": "code",
      "source": [
        "\n",
        "def calculate_features(group):\n",
        "    group = group.sort_values('timestamp')\n",
        "\n",
        "\n",
        "    if len(group) > 1:\n",
        "        time_diffs = group['timestamp'].diff().dt.total_seconds()\n",
        "        mean_time_diff = time_diffs[time_diffs > 0].mean() or 0\n",
        "    else:\n",
        "        mean_time_diff = 0\n",
        "\n",
        "    return pd.Series({\n",
        "        'total_deposit': group[group['action']=='deposit']['amount'].sum(),\n",
        "        'total_borrow': group[group['action']=='borrow']['amount'].sum(),\n",
        "        'total_repay': group[group['action']=='repay']['amount'].sum(),\n",
        "        'num_liquidations': (group['action']=='liquidationcall').sum(),\n",
        "        'active_days': (group['timestamp'].max() - group['timestamp'].min()).days + 1,\n",
        "        'tx_frequency': mean_time_diff,\n",
        "        'repay_ratio': (\n",
        "            group[group['action']=='repay']['amount'].sum() /\n",
        "            (group[group['action']=='borrow']['amount'].sum() + 1e-6)\n",
        "        )\n",
        "    })\n",
        "\n",
        "features = df.groupby('userWallet').apply(calculate_features).fillna(0)\n",
        "\n",
        "\n",
        "features['repay_ratio'] = np.where(\n",
        "    features['total_borrow'] == 0,\n",
        "    1.0,\n",
        "    features['repay_ratio'].clip(upper=10)\n",
        ")"
      ],
      "metadata": {
        "colab": {
          "base_uri": "https://localhost:8080/"
        },
        "id": "5GoAkdBSg8De",
        "outputId": "6ac2c413-60fa-47ad-b46d-f59394bbe81d"
      },
      "execution_count": null,
      "outputs": [
        {
          "output_type": "stream",
          "name": "stderr",
          "text": [
            "/tmp/ipython-input-16-650214010.py:25: DeprecationWarning: DataFrameGroupBy.apply operated on the grouping columns. This behavior is deprecated, and in a future version of pandas the grouping columns will be excluded from the operation. Either pass `include_groups=False` to exclude the groupings or explicitly select the grouping columns after groupby to silence this warning.\n",
            "  features = df.groupby('userWallet').apply(calculate_features).fillna(0)\n"
          ]
        }
      ]
    },
    {
      "cell_type": "code",
      "source": [
        "features['liquidation_penalty'] = np.log1p(features['num_liquidations']) * 50\n",
        "features['repayment_quality'] = np.where(\n",
        "    features['repay_ratio'] < 0.8,\n",
        "    np.log(features['repay_ratio'] + 1) * 10,\n",
        "    np.log(features['repay_ratio'] + 1) * 30\n",
        ")\n",
        "\n",
        "\n",
        "features['deposit_quality'] = np.log1p(features['total_deposit']) * 25\n",
        "features['activity_quality'] = np.log1p(features['active_days']) * 15\n",
        "features['stability_quality'] = np.where(\n",
        "    features['tx_frequency'] > 0,\n",
        "    np.minimum(50, 1 / np.log1p(features['tx_frequency']) * 40),\n",
        "    0\n",
        ")\n",
        "\n",
        "raw_score = (\n",
        "    features['deposit_quality'] +\n",
        "    features['repayment_quality'] +\n",
        "    features['activity_quality'] +\n",
        "    features['stability_quality'] -\n",
        "    np.minimum(features['liquidation_penalty'], 100)\n",
        ")\n",
        "\n",
        "\n",
        "features['credit_score'] = (\n",
        "    (raw_score - raw_score.min()) /\n",
        "    (raw_score.max() - raw_score.min()) * 1000\n",
        ").clip(0, 1000)"
      ],
      "metadata": {
        "id": "AOUP_-kbg9at"
      },
      "execution_count": null,
      "outputs": []
    },
    {
      "cell_type": "code",
      "source": [
        "bins = list(range(0, 1100, 100))\n",
        "bin_labels = [f\"{i}-{i+99}\" for i in range(0, 1000, 100)]\n",
        "features['score_bin'] = pd.cut(features['credit_score'], bins=bins, labels=bin_labels)\n",
        "\n",
        "\n",
        "output_csv = f\"{base_dir}/output/wallet_scores.csv\"\n",
        "features.reset_index()[['userWallet', 'credit_score']].to_csv(output_csv, index=False)\n",
        "\n",
        "\n",
        "plt.figure(figsize=(12, 7))\n",
        "bin_counts = features['score_bin'].value_counts().sort_index()\n",
        "\n",
        "\n",
        "ax = bin_counts.plot(kind='bar', color='skyblue', edgecolor='black')\n",
        "plt.title('Credit Score Distribution (100-point bins)', fontsize=14)\n",
        "plt.xlabel('Score Range', fontsize=12)\n",
        "plt.ylabel('Number of Wallets', fontsize=12)\n",
        "plt.xticks(rotation=45, ha='right')\n",
        "\n",
        "\n",
        "for i, count in enumerate(bin_counts):\n",
        "    ax.text(i, count + max(bin_counts)*0.01, f\"{count:,}\",\n",
        "            ha='center', fontsize=9, fontweight='bold')\n",
        "\n",
        "plt.grid(axis='y', alpha=0.3)\n",
        "plt.tight_layout()\n",
        "plt.savefig(f\"{base_dir}/output/score_distribution.png\")\n",
        "\n",
        "\n",
        "total_wallets = len(features)\n",
        "print(f\"\\n{'='*50}\")\n",
        "print(f\"TOTAL WALLETS PROCESSED: {total_wallets:,}\")\n",
        "print(f\"LOWEST SCORE: {features['credit_score'].min():.1f}\")\n",
        "print(f\"HIGHEST SCORE: {features['credit_score'].max():.1f}\")\n",
        "print(f\"AVERAGE SCORE: {features['credit_score'].mean():.1f}\")\n",
        "print(f\"{'='*50}\\n\")\n",
        "\n",
        "plt.show()\n",
        "\n",
        "\n",
        "low_risk = features[features['credit_score'] >= 700]\n",
        "high_risk = features[features['credit_score'] <= 300]\n",
        "\n",
        "analysis_content = f\"\"\"\n",
        "# Credit Score Analysis\n",
        "\n",
        "## Score Distribution\n",
        "![Distribution](output/score_distribution.png)\n",
        "\n",
        "## Key Statistics\n",
        "- **Total Wallets**: {total_wallets:,}\n",
        "- **Score Range**: {features['credit_score'].min():.1f}-{features['credit_score'].max():.1f}\n",
        "- **Average Score**: {features['credit_score'].mean():.1f}\n",
        "\n",
        "## High-Risk Wallets (0-300)\n",
        "- **Count**: {len(high_risk):,} ({len(high_risk)/total_wallets:.1%})\n",
        "- **Avg Liquidations**: {high_risk['num_liquidations'].mean():.2f}\n",
        "- **Avg Repayment Ratio**: {high_risk['repay_ratio'].mean():.2f}\n",
        "- **Typical Behavior**: Frequent liquidations, low repayment rates, erratic transaction timing\n",
        "\n",
        "## Low-Risk Wallets (700-1000)\n",
        "- **Count**: {len(low_risk):,} ({len(low_risk)/total_wallets:.1%})\n",
        "- **Avg Liquidations**: {low_risk['num_liquidations'].mean():.2f}\n",
        "- **Avg Repayment Ratio**: {low_risk['repay_ratio'].mean():.2f}\n",
        "- **Typical Behavior**: Consistent deposits, high repayment ratios, regular transaction patterns\n",
        "\"\"\"\n",
        "\n",
        "with open(f\"{base_dir}/analysis.md\", \"w\") as f:\n",
        "    f.write(analysis_content)"
      ],
      "metadata": {
        "colab": {
          "base_uri": "https://localhost:8080/",
          "height": 824
        },
        "id": "KJn-XOe_g_FS",
        "outputId": "9909bc94-17e3-4ec5-aa82-5f206f98a9ae"
      },
      "execution_count": null,
      "outputs": [
        {
          "output_type": "stream",
          "name": "stdout",
          "text": [
            "\n",
            "==================================================\n",
            "TOTAL WALLETS PROCESSED: 3,497\n",
            "LOWEST SCORE: 0.0\n",
            "HIGHEST SCORE: 1000.0\n",
            "AVERAGE SCORE: 284.0\n",
            "==================================================\n",
            "\n"
          ]
        },
        {
          "output_type": "display_data",
          "data": {
            "text/plain": [
              "<Figure size 1200x700 with 1 Axes>"
            ],
            "image/png": "[encoded data removed]"
          },
          "metadata": {}
        }
      ]
    },
    {
      "cell_type": "code",
      "source": [
        "import os\n",
        "\n",
        "base_dir = \"/content/aave-credit-score\"\n",
        "os.makedirs(base_dir, exist_ok=True)\n",
        "\n",
        "readme_content = \"\"\"# Aave V2 Wallet Credit Scoring\n",
        "\n",
        "## Methodology\n",
        "1. Load transaction data from JSON\n",
        "2. Extract key features:\n",
        "   - Deposit/borrow/repay amounts\n",
        "   - Liquidation events\n",
        "   - Transaction frequency\n",
        "   - Account activity duration\n",
        "3. Calculate raw scores using weighted rules:\n",
        "   - Positive weights for deposits and repayments\n",
        "   - Negative weights for liquidations\n",
        "4. Normalize scores to 0-1000 range\n",
        "5. Output CSV with wallet addresses and scores\n",
        "\n",
        "## Usage\n",
        "Run script with input JSON path:\n",
        "`python score_wallets.py input.json`\"\"\"\n",
        "\n",
        "with open(f\"{base_dir}/README.md\", \"w\") as f:\n",
        "    f.write(readme_content)\n",
        "\n",
        "analysis_content = \"\"\"# Credit Score Analysis\n",
        "\n",
        "## Distribution\n",
        "- 0-299: 736 wallets (high risk)\n",
        "- 300-699: 2731 wallets (typical)\n",
        "- 700-1000: 30 wallets (elite)\n",
        "\n",
        "## Key Findings\n",
        "- High-risk wallets show frequent liquidations\n",
        "- Elite wallets maintain perfect repayment history\n",
        "- Most users fall in mid-range with occasional late payments\n",
        "\n",
        "![Score Distribution](score_distribution.png)\"\"\"\n",
        "\n",
        "with open(f\"{base_dir}/analysis.md\", \"w\") as f:\n",
        "    f.write(analysis_content)\n",
        "\n",
        "print(\"Files created successfully\")"
      ],
      "metadata": {
        "colab": {
          "base_uri": "https://localhost:8080/"
        },
        "id": "46cvZm3IhEFk",
        "outputId": "044086a6-ef80-4a03-d9ac-61261b0b0755"
      },
      "execution_count": null,
      "outputs": [
        {
          "output_type": "stream",
          "name": "stdout",
          "text": [
            "Files created successfully\n"
          ]
        }
      ]
    }
  ]
}